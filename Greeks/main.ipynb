{
 "cells": [
  {
   "cell_type": "code",
   "execution_count": 2,
   "id": "1fc6766e",
   "metadata": {},
   "outputs": [],
   "source": [
    "import numpy as np\n",
    "from scipy.stats import norm"
   ]
  },
  {
   "cell_type": "code",
   "execution_count": 3,
   "id": "6bf5fcd9",
   "metadata": {},
   "outputs": [],
   "source": [
    "class OptionGreeks:\n",
    "    \n",
    "    def __init__(self):\n",
    "        pass\n",
    "\n",
    "    def d1(self, S0, K, T, r, sigma):\n",
    "        return (np.log(S0 / K) + (r + 0.5 * (sigma ** 2)) * T) / (sigma * np.sqrt(T))\n",
    "    \n",
    "    def d2(self, S0, K, T, r, sigma):\n",
    "        return self.d1(S0, K, T, r, sigma) - (sigma * np.sqrt(T))\n",
    "    \n",
    "    def delta(self, S0, K, T, r, sigma, option_type):\n",
    "        d1 = self.d1(S0, K, T, r, sigma)\n",
    "        if option_type == 'C':\n",
    "            return norm.cdf(d1)\n",
    "        return norm.cdf(d1) - 1\n",
    "    \n",
    "    def gamma(self, S0, K, T, r, sigma):\n",
    "        d1 = self.d1(S0, K, T, r, sigma)\n",
    "        return norm.pdf(d1) / (S0 * sigma * np.sqrt(T))\n",
    "    \n",
    "    def theta(self, S0, K, T, r, sigma, option_type):\n",
    "        d1 = self.d1(S0, K, T, r, sigma)\n",
    "        d2 = self.d2(S0, K, T, r, sigma)\n",
    "        first_term = - (S0 * norm.pdf(d1) * sigma) / (2 * np.sqrt(T))\n",
    "        if option_type == 'C':\n",
    "            second_term = - r * K * np.exp(-r * T) * norm.cdf(d2)\n",
    "        else:\n",
    "            second_term = r * K * np.exp(-r * T) * norm.cdf(-d2)\n",
    "        return first_term + second_term  \n",
    "\n",
    "    def vega(self, S0, K, T, r, sigma):\n",
    "        d1 = self.d1(S0, K, T, r, sigma)\n",
    "        return S0 * norm.pdf(d1) * np.sqrt(T)\n",
    "\n",
    "og = OptionGreeks()"
   ]
  },
  {
   "cell_type": "code",
   "execution_count": 8,
   "id": "09df65df",
   "metadata": {},
   "outputs": [
    {
     "name": "stdout",
     "output_type": "stream",
     "text": [
      "Gamma: 0.022543522918511368\n",
      "Delat: 0.48157974768463063\n",
      "Theta: -9.153325129409634\n",
      "Vega: 28.179403648139214\n"
     ]
    }
   ],
   "source": [
    "S0 = 100\n",
    "K = 105\n",
    "r = 0.05\n",
    "T = 0.5\n",
    "sigma = 0.25\n",
    "option_type = 'C'\n",
    "\n",
    "print(f'Gamma: {og.gamma(S0, K, T, r, sigma)}')\n",
    "print(f'Delat: {og.delta(S0, K, T, r, sigma, option_type)}')\n",
    "print(f'Theta: {og.theta(S0, K, T, r, sigma, option_type)}')\n",
    "print(f'Vega: {og.vega(S0, K, T, r, sigma)}')"
   ]
  }
 ],
 "metadata": {
  "kernelspec": {
   "display_name": "Python 3",
   "language": "python",
   "name": "python3"
  },
  "language_info": {
   "codemirror_mode": {
    "name": "ipython",
    "version": 3
   },
   "file_extension": ".py",
   "mimetype": "text/x-python",
   "name": "python",
   "nbconvert_exporter": "python",
   "pygments_lexer": "ipython3",
   "version": "3.9.6"
  }
 },
 "nbformat": 4,
 "nbformat_minor": 5
}
