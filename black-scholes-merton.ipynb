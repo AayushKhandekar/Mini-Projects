{
 "cells": [
  {
   "cell_type": "markdown",
   "id": "511d302e",
   "metadata": {},
   "source": [
    "# Black-Scholes-Merton Model for European Call Option"
   ]
  },
  {
   "cell_type": "markdown",
   "id": "23ce135c",
   "metadata": {},
   "source": [
    "### Call Option Price\n",
    "\n",
    "$$\n",
    "c = S_0 \\cdot N(d_1) - K \\cdot e^{-rT} \\cdot N(d_2)\n",
    "$$\n",
    "\n",
    "### Put Option Price\n",
    "\n",
    "$$\n",
    "p = -S_0 \\cdot N(-d_1) + K \\cdot e^{-rT} \\cdot N(-d_2)\n",
    "$$\n",
    "\n",
    "$$\n",
    "d_1 = \\frac{\\ln\\left(\\frac{S_0}{K}\\right) + \\left(r + \\frac{\\sigma^2}{2}\\right)T}{\\sigma \\sqrt{T}}\n",
    "$$\n",
    "\n",
    "$$\n",
    "d_2 = d_1 - \\sigma \\sqrt{T}\n",
    "$$\n",
    "\n",
    "where\n",
    "\n",
    "- \\( S_0 \\): Current stock price  \n",
    "- \\( K \\): Strike price  \n",
    "- \\( r \\): Risk-free interest rate (annualized)  \n",
    "- \\( T \\): Time to maturity (in years)  \n",
    "- \\( \\sigma \\): Volatility of the underlying asset (annualized)  \n",
    "- \\( N(\\cdot) \\): Cumulative distribution function (CDF) of the standard normal distribution  "
   ]
  },
  {
   "cell_type": "code",
   "execution_count": 5,
   "id": "ea6ab46b",
   "metadata": {},
   "outputs": [],
   "source": [
    "import numpy as np\n",
    "from scipy.stats import norm\n",
    "\n",
    "class BlackScholesModel:\n",
    "\n",
    "    def __init__(self):\n",
    "        pass\n",
    "\n",
    "    def d1(self, S0, K, T, r, sigma):\n",
    "        return (np.log(S0 / K) + (r + 0.5 * (sigma ** 2)) * T) / (sigma * np.sqrt(T))\n",
    "    \n",
    "    def d2(self, S0, K, T, r, sigma):\n",
    "        return self.d1(S0, K, T, r, sigma) - (sigma * np.sqrt(T))\n",
    "    \n",
    "    def call_price(self, S0, K, T, r, sigma):\n",
    "        d1 = self.d1(S0, K, T, r, sigma)\n",
    "        d2 = self.d2(S0, K, T, r, sigma)\n",
    "        return (S0 * norm.cdf(d1)) - (K * np.exp(-r * T) * norm.cdf(d2))\n",
    "    \n",
    "    def put_price(self, S0, K, T, r, sigma):\n",
    "        d1 = self.d1(S0, K, T, r, sigma)\n",
    "        d2 = self.d2(S0, K, T, r, sigma)\n",
    "        return (-S0 * norm.cdf(-d1)) + (K * np.exp(-r * T) * norm.cdf(-d2))\n",
    "\n",
    "bsm = BlackScholesModel()"
   ]
  },
  {
   "cell_type": "code",
   "execution_count": 6,
   "id": "4e968d10",
   "metadata": {},
   "outputs": [
    {
     "name": "stdout",
     "output_type": "stream",
     "text": [
      "4.759422392871532\n",
      "0.8085993729000922\n"
     ]
    }
   ],
   "source": [
    "print(bsm.call_price(42, 40, 0.5, 0.1, 0.2))\n",
    "print(bsm.put_price(42, 40, 0.5, 0.1, 0.2))"
   ]
  }
 ],
 "metadata": {
  "kernelspec": {
   "display_name": "Python 3",
   "language": "python",
   "name": "python3"
  },
  "language_info": {
   "codemirror_mode": {
    "name": "ipython",
    "version": 3
   },
   "file_extension": ".py",
   "mimetype": "text/x-python",
   "name": "python",
   "nbconvert_exporter": "python",
   "pygments_lexer": "ipython3",
   "version": "3.9.6"
  }
 },
 "nbformat": 4,
 "nbformat_minor": 5
}
